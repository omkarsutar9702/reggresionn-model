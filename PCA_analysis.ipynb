{
  "nbformat": 4,
  "nbformat_minor": 0,
  "metadata": {
    "colab": {
      "provenance": []
    },
    "kernelspec": {
      "name": "python3",
      "display_name": "Python 3"
    },
    "language_info": {
      "name": "python"
    },
    "gpuClass": "standard"
  },
  "cells": [
    {
      "cell_type": "code",
      "execution_count": 50,
      "metadata": {
        "id": "uArUguol-In_"
      },
      "outputs": [],
      "source": [
        "import pandas as pd\n",
        "import numpy as np\n",
        "import seaborn as sn\n",
        "from sklearn.preprocessing import StandardScaler\n",
        "from sklearn.decomposition import PCA\n",
        "from sklearn.model_selection import train_test_split\n",
        "from sklearn.linear_model import LogisticRegression\n",
        "from sklearn.metrics import confusion_matrix , classification_report\n",
        "df = sn.load_dataset('iris')"
      ]
    },
    {
      "cell_type": "code",
      "source": [
        "feature= df.columns[0:3]\n",
        "x = df.loc[:,feature].values\n",
        "y = df.loc[:,df.columns[4]].values\n",
        "x = StandardScaler().fit_transform(x)"
      ],
      "metadata": {
        "id": "UaMKYCZoEbz0"
      },
      "execution_count": 12,
      "outputs": []
    },
    {
      "cell_type": "code",
      "source": [
        "pca = PCA(n_components = 2)\n",
        "prin_com = pca.fit_transform(x)\n",
        "pcsdf = pd.DataFrame(data=prin_com , columns = ['principle component 1' , 'principle component 2'])\n",
        "pcadf = pd.concat([pcsdf , df[[df.columns[4]]]] , axis = 1)"
      ],
      "metadata": {
        "id": "RIjqa6TMFSDr"
      },
      "execution_count": 24,
      "outputs": []
    },
    {
      "cell_type": "code",
      "source": [
        "sn.scatterplot(data = pcadf , x='principle component 1' , y='principle component 2' , hue = 'species')"
      ],
      "metadata": {
        "colab": {
          "base_uri": "https://localhost:8080/",
          "height": 296
        },
        "id": "c6fyEJLQJtB9",
        "outputId": "17de6ade-828d-46c2-ecf5-3f88a332d893"
      },
      "execution_count": 27,
      "outputs": [
        {
          "output_type": "execute_result",
          "data": {
            "text/plain": [
              "<matplotlib.axes._subplots.AxesSubplot at 0x7f4c2d204880>"
            ]
          },
          "metadata": {},
          "execution_count": 27
        },
        {
          "output_type": "display_data",
          "data": {
            "text/plain": [
              "<Figure size 432x288 with 1 Axes>"
            ],
            "image/png": "[encoded data removed]"
          },
          "metadata": {
            "needs_background": "light"
          }
        }
      ]
    },
    {
      "cell_type": "code",
      "source": [
        "pca.explained_variance_ratio_"
      ],
      "metadata": {
        "colab": {
          "base_uri": "https://localhost:8080/",
          "height": 0
        },
        "id": "OURQ4p9_KoYW",
        "outputId": "3ad641c2-de6f-49f1-843e-8e131f60498f"
      },
      "execution_count": 28,
      "outputs": [
        {
          "output_type": "execute_result",
          "data": {
            "text/plain": [
              "array([0.67380995, 0.30247819])"
            ]
          },
          "metadata": {},
          "execution_count": 28
        }
      ]
    },
    {
      "cell_type": "code",
      "source": [
        "x = pcadf.iloc[:,0:2]\n",
        "y = pcadf.iloc[:,2]\n",
        "x_train , x_test , y_train , y_test = train_test_split(x , y , test_size=0.2 , random_state = 23)"
      ],
      "metadata": {
        "id": "TDLK9tVBLuAE"
      },
      "execution_count": 38,
      "outputs": []
    },
    {
      "cell_type": "code",
      "source": [
        "model = LogisticRegression(random_state = 3)\n",
        "model.fit(x_train , y_train)\n",
        "y_pred = model.predict(x_test)"
      ],
      "metadata": {
        "colab": {
          "base_uri": "https://localhost:8080/",
          "height": 0
        },
        "id": "ZAuBCSxwPtIx",
        "outputId": "669313bc-b5a6-42b6-a8b3-6941f91dd175"
      },
      "execution_count": 44,
      "outputs": [
        {
          "output_type": "execute_result",
          "data": {
            "text/plain": [
              "LogisticRegression(random_state=3)"
            ]
          },
          "metadata": {},
          "execution_count": 44
        }
      ]
    },
    {
      "cell_type": "code",
      "source": [
        "confusion_matrix(y_test , y_pred)"
      ],
      "metadata": {
        "colab": {
          "base_uri": "https://localhost:8080/",
          "height": 0
        },
        "id": "0cu_0o8STFNM",
        "outputId": "8ed419d5-e15c-4d49-dc85-ea772602b204"
      },
      "execution_count": 47,
      "outputs": [
        {
          "output_type": "execute_result",
          "data": {
            "text/plain": [
              "array([[12,  0,  0],\n",
              "       [ 0,  6,  2],\n",
              "       [ 0,  2,  8]])"
            ]
          },
          "metadata": {},
          "execution_count": 47
        }
      ]
    },
    {
      "cell_type": "code",
      "source": [
        "model.score(x_train , y_train)"
      ],
      "metadata": {
        "colab": {
          "base_uri": "https://localhost:8080/",
          "height": 0
        },
        "id": "Y1gD7kW-Tng_",
        "outputId": "46a2cb3b-f958-4f0e-cd62-9770fb9991c5"
      },
      "execution_count": 49,
      "outputs": [
        {
          "output_type": "execute_result",
          "data": {
            "text/plain": [
              "0.8583333333333333"
            ]
          },
          "metadata": {},
          "execution_count": 49
        }
      ]
    },
    {
      "cell_type": "code",
      "source": [
        "print(classification_report(y_test , y_pred))"
      ],
      "metadata": {
        "colab": {
          "base_uri": "https://localhost:8080/",
          "height": 0
        },
        "id": "muezrqtsWZdV",
        "outputId": "ae94d7e1-b491-4594-8fc8-a5b1d96595e9"
      },
      "execution_count": 51,
      "outputs": [
        {
          "output_type": "stream",
          "name": "stdout",
          "text": [
            "              precision    recall  f1-score   support\n",
            "\n",
            "      setosa       1.00      1.00      1.00        12\n",
            "  versicolor       0.75      0.75      0.75         8\n",
            "   virginica       0.80      0.80      0.80        10\n",
            "\n",
            "    accuracy                           0.87        30\n",
            "   macro avg       0.85      0.85      0.85        30\n",
            "weighted avg       0.87      0.87      0.87        30\n",
            "\n"
          ]
        }
      ]
    },
    {
      "cell_type": "code",
      "source": [],
      "metadata": {
        "id": "lcTFWlkLXPGo"
      },
      "execution_count": null,
      "outputs": []
    }
  ]
}